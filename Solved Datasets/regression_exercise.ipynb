{
 "cells": [
  {
   "cell_type": "markdown",
   "metadata": {},
   "source": [
    "# Regression"
   ]
  },
  {
   "cell_type": "markdown",
   "metadata": {
    "id": "sgpTSlP99R2O"
   },
   "source": [
    "## Initialization\n",
    "\n",
    "### Import the libraries you need in the cell below"
   ]
  },
  {
   "cell_type": "code",
   "execution_count": null,
   "metadata": {
    "id": "MXBoZhQh9R2X"
   },
   "outputs": [],
   "source": [
    "import numpy as np\n",
    "import pandas as pd\n",
    "import sklearn\n",
    "from sklearn.metrics import mean_squared_error\n",
    "import matplotlib.pyplot as plt\n",
    "import statsmodels.api as sm"
   ]
  },
  {
   "cell_type": "code",
   "execution_count": null,
   "metadata": {
    "id": "KH5iDMzC9R2b"
   },
   "outputs": [],
   "source": [
    "### BEGIN YOUR CODE\n",
    "\n",
    "Student_ID = 45\n",
    "\n",
    "### END YOUR CODE"
   ]
  },
  {
   "cell_type": "markdown",
   "metadata": {
    "id": "PE8R4Grx9R2c"
   },
   "source": [
    "Now run the next cell. It will print all information for you."
   ]
  },
  {
   "cell_type": "code",
   "execution_count": null,
   "metadata": {
    "colab": {
     "base_uri": "https://localhost:8080/"
    },
    "executionInfo": {
     "elapsed": 15,
     "status": "ok",
     "timestamp": 1648631653640,
     "user": {
      "displayName": "Andrey Vagin",
      "userId": "09954343026999420417"
     },
     "user_tz": -180
    },
    "id": "D4bxxHJk9R2c",
    "outputId": "f14650ce-cdbf-48b7-c101-0646c77a3cb7"
   },
   "outputs": [
    {
     "name": "stdout",
     "output_type": "stream",
     "text": [
      "TASKID is 5\n",
      "Please, choose a dataset No 5 below\n",
      "Your second model must be of power p = 4\n"
     ]
    }
   ],
   "source": [
    "task_id = None if Student_ID is None else Student_ID % 5 if Student_ID % 5 > 0 else 5\n",
    "_model_power = None if Student_ID is None else (Student_ID % 4) + 3\n",
    "if task_id is not None:\n",
    "    print(f\"TASKID is {task_id}\")\n",
    "    print(f\"Please, choose a dataset No {task_id} below\")\n",
    "    print(f\"Your second model must be of power p = {_model_power}\")\n",
    "else:\n",
    "    print(\"Please, enter your Student ID in the cell above!\")"
   ]
  },
  {
   "cell_type": "markdown",
   "metadata": {
    "id": "Ad3ecuJO9R2d"
   },
   "source": [
    "#### Datasets\n",
    "\n",
    "1. Poultry meat consumption in Europe, kilograms per person per year\n",
    "\n",
    "|     |     |     |     |     |     |     |     |     |     |     |\n",
    "| --- | --- | --- | --- | --- | --- | --- | --- | --- | --- | --- | \n",
    "| Year | 2000 | 2001 | 2002 | 2003 | 2004 | 2005 | 2006 | 2007 | 2008 | 2009 | \n",
    "| Consumption | 16.0 | 17.9 | 18.6 | 18.3 | 19.0 | 19.3 | 19.2 | 20.3 | 21.1 | 21.9 | \n",
    "\n",
    "2. Sugar consumption in Russia, grams per person per day\n",
    "\n",
    "|     |     |     |     |     |     |     |     |     |     |     |\n",
    "| --- | --- | --- | --- | --- | --- | --- | --- | --- | --- | --- | \n",
    "| Decade | 1950 | 1960 | 1970 | 1980 | 1990 | 2000 | 2015 |\n",
    "| Consumption | 32 | 85 | 115 | 130 | 130 | 96 | 107 |\n",
    "\n",
    "3. Poultry meat consumption in Asia, kilograms per person per year\n",
    "\n",
    "|     |     |     |     |     |     |     |     |     |     |     |\n",
    "| --- | --- | --- | --- | --- | --- | --- | --- | --- | --- | --- | \n",
    "| Year | 2000 | 2001 | 2002 | 2003 | 2004 | 2005 | 2006 | 2007 | 2008 | 2009 | \n",
    "| Consumption | 6.7 | 6.6 | 6.8 | 7.0 | 7.0 | 7.5 | 7.7 | 8.2 | 8.6 | 8.8 | \n",
    "\n",
    "4. Poultry meat consumption in Africa, kilograms per person per year\n",
    "\n",
    "|     |     |     |     |     |     |     |     |     |     |     |\n",
    "| --- | --- | --- | --- | --- | --- | --- | --- | --- | --- | --- | \n",
    "| Year | 2000 | 2001 | 2002 | 2003 | 2004 | 2005 | 2006 | 2007 | 2008 | 2009 | \n",
    "| Consumption | 4.2 | 4.3 | 4.5 | 4.7 | 4.6 | 4.7 | 4.8 | 5.2 | 5.4 | 5.5 | \n",
    "\n",
    "5. Demographic situation in Russia, number of marriages per 1000 people per year\n",
    "\n",
    "|     |     |     |     |     |     |     |     |     |     |     |\n",
    "| --- | --- | --- | --- | --- | --- | --- | --- | --- | --- | --- | \n",
    "| Year | 2011 | 2012 | 2013 | 2014 | 2015 | 2016 | 2017 | 2018 | 2019 | 2020 |\n",
    "| Marriages per 1000 population | 9.2 | 8.5 | 8.5 | 8.4 | 7.9 | 6.7 | 7.1 | 6.1 | 6.3 | 5.3 |\n"
   ]
  },
  {
   "cell_type": "markdown",
   "metadata": {
    "id": "GjlfUZVd9R2i"
   },
   "source": [
    "### 1. Define a pandas dataset with the data for your task\n",
    "[This](https://pandas.pydata.org/docs/reference/api/pandas.DataFrame.html) documentation might help.\n",
    "\n",
    "**Make sure to normalize your $x$ variable, i.e. replace years with sequential numbers 0, 1, ...**"
   ]
  },
  {
   "cell_type": "code",
   "execution_count": null,
   "metadata": {
    "colab": {
     "base_uri": "https://localhost:8080/",
     "height": 363
    },
    "executionInfo": {
     "elapsed": 12,
     "status": "ok",
     "timestamp": 1648631653641,
     "user": {
      "displayName": "Andrey Vagin",
      "userId": "09954343026999420417"
     },
     "user_tz": -180
    },
    "id": "YFlg_Z0m9R2j",
    "outputId": "2dd631ce-7579-49bc-e161-1d087c70209a"
   },
   "outputs": [
    {
     "data": {
      "text/html": [
       "\n",
       "  <div id=\"df-c4a48ac9-73fe-4b1e-b231-fdd9c9d98735\">\n",
       "    <div class=\"colab-df-container\">\n",
       "      <div>\n",
       "<style scoped>\n",
       "    .dataframe tbody tr th:only-of-type {\n",
       "        vertical-align: middle;\n",
       "    }\n",
       "\n",
       "    .dataframe tbody tr th {\n",
       "        vertical-align: top;\n",
       "    }\n",
       "\n",
       "    .dataframe thead th {\n",
       "        text-align: right;\n",
       "    }\n",
       "</style>\n",
       "<table border=\"1\" class=\"dataframe\">\n",
       "  <thead>\n",
       "    <tr style=\"text-align: right;\">\n",
       "      <th></th>\n",
       "      <th>Year</th>\n",
       "      <th>Marriages per 1000 population</th>\n",
       "    </tr>\n",
       "  </thead>\n",
       "  <tbody>\n",
       "    <tr>\n",
       "      <th>0</th>\n",
       "      <td>2011</td>\n",
       "      <td>9.2</td>\n",
       "    </tr>\n",
       "    <tr>\n",
       "      <th>1</th>\n",
       "      <td>2012</td>\n",
       "      <td>8.5</td>\n",
       "    </tr>\n",
       "    <tr>\n",
       "      <th>2</th>\n",
       "      <td>2013</td>\n",
       "      <td>8.5</td>\n",
       "    </tr>\n",
       "    <tr>\n",
       "      <th>3</th>\n",
       "      <td>2014</td>\n",
       "      <td>8.4</td>\n",
       "    </tr>\n",
       "    <tr>\n",
       "      <th>4</th>\n",
       "      <td>2015</td>\n",
       "      <td>7.9</td>\n",
       "    </tr>\n",
       "    <tr>\n",
       "      <th>5</th>\n",
       "      <td>2016</td>\n",
       "      <td>6.7</td>\n",
       "    </tr>\n",
       "    <tr>\n",
       "      <th>6</th>\n",
       "      <td>2017</td>\n",
       "      <td>7.1</td>\n",
       "    </tr>\n",
       "    <tr>\n",
       "      <th>7</th>\n",
       "      <td>2018</td>\n",
       "      <td>6.1</td>\n",
       "    </tr>\n",
       "    <tr>\n",
       "      <th>8</th>\n",
       "      <td>2019</td>\n",
       "      <td>6.3</td>\n",
       "    </tr>\n",
       "    <tr>\n",
       "      <th>9</th>\n",
       "      <td>2020</td>\n",
       "      <td>5.3</td>\n",
       "    </tr>\n",
       "  </tbody>\n",
       "</table>\n",
       "</div>\n",
       "      <button class=\"colab-df-convert\" onclick=\"convertToInteractive('df-c4a48ac9-73fe-4b1e-b231-fdd9c9d98735')\"\n",
       "              title=\"Convert this dataframe to an interactive table.\"\n",
       "              style=\"display:none;\">\n",
       "        \n",
       "  <svg xmlns=\"http://www.w3.org/2000/svg\" height=\"24px\"viewBox=\"0 0 24 24\"\n",
       "       width=\"24px\">\n",
       "    <path d=\"M0 0h24v24H0V0z\" fill=\"none\"/>\n",
       "    <path d=\"M18.56 5.44l.94 2.06.94-2.06 2.06-.94-2.06-.94-.94-2.06-.94 2.06-2.06.94zm-11 1L8.5 8.5l.94-2.06 2.06-.94-2.06-.94L8.5 2.5l-.94 2.06-2.06.94zm10 10l.94 2.06.94-2.06 2.06-.94-2.06-.94-.94-2.06-.94 2.06-2.06.94z\"/><path d=\"M17.41 7.96l-1.37-1.37c-.4-.4-.92-.59-1.43-.59-.52 0-1.04.2-1.43.59L10.3 9.45l-7.72 7.72c-.78.78-.78 2.05 0 2.83L4 21.41c.39.39.9.59 1.41.59.51 0 1.02-.2 1.41-.59l7.78-7.78 2.81-2.81c.8-.78.8-2.07 0-2.86zM5.41 20L4 18.59l7.72-7.72 1.47 1.35L5.41 20z\"/>\n",
       "  </svg>\n",
       "      </button>\n",
       "      \n",
       "  <style>\n",
       "    .colab-df-container {\n",
       "      display:flex;\n",
       "      flex-wrap:wrap;\n",
       "      gap: 12px;\n",
       "    }\n",
       "\n",
       "    .colab-df-convert {\n",
       "      background-color: #E8F0FE;\n",
       "      border: none;\n",
       "      border-radius: 50%;\n",
       "      cursor: pointer;\n",
       "      display: none;\n",
       "      fill: #1967D2;\n",
       "      height: 32px;\n",
       "      padding: 0 0 0 0;\n",
       "      width: 32px;\n",
       "    }\n",
       "\n",
       "    .colab-df-convert:hover {\n",
       "      background-color: #E2EBFA;\n",
       "      box-shadow: 0px 1px 2px rgba(60, 64, 67, 0.3), 0px 1px 3px 1px rgba(60, 64, 67, 0.15);\n",
       "      fill: #174EA6;\n",
       "    }\n",
       "\n",
       "    [theme=dark] .colab-df-convert {\n",
       "      background-color: #3B4455;\n",
       "      fill: #D2E3FC;\n",
       "    }\n",
       "\n",
       "    [theme=dark] .colab-df-convert:hover {\n",
       "      background-color: #434B5C;\n",
       "      box-shadow: 0px 1px 3px 1px rgba(0, 0, 0, 0.15);\n",
       "      filter: drop-shadow(0px 1px 2px rgba(0, 0, 0, 0.3));\n",
       "      fill: #FFFFFF;\n",
       "    }\n",
       "  </style>\n",
       "\n",
       "      <script>\n",
       "        const buttonEl =\n",
       "          document.querySelector('#df-c4a48ac9-73fe-4b1e-b231-fdd9c9d98735 button.colab-df-convert');\n",
       "        buttonEl.style.display =\n",
       "          google.colab.kernel.accessAllowed ? 'block' : 'none';\n",
       "\n",
       "        async function convertToInteractive(key) {\n",
       "          const element = document.querySelector('#df-c4a48ac9-73fe-4b1e-b231-fdd9c9d98735');\n",
       "          const dataTable =\n",
       "            await google.colab.kernel.invokeFunction('convertToInteractive',\n",
       "                                                     [key], {});\n",
       "          if (!dataTable) return;\n",
       "\n",
       "          const docLinkHtml = 'Like what you see? Visit the ' +\n",
       "            '<a target=\"_blank\" href=https://colab.research.google.com/notebooks/data_table.ipynb>data table notebook</a>'\n",
       "            + ' to learn more about interactive tables.';\n",
       "          element.innerHTML = '';\n",
       "          dataTable['output_type'] = 'display_data';\n",
       "          await google.colab.output.renderOutput(dataTable, element);\n",
       "          const docLink = document.createElement('div');\n",
       "          docLink.innerHTML = docLinkHtml;\n",
       "          element.appendChild(docLink);\n",
       "        }\n",
       "      </script>\n",
       "    </div>\n",
       "  </div>\n",
       "  "
      ],
      "text/plain": [
       "   Year  Marriages per 1000 population\n",
       "0  2011                            9.2\n",
       "1  2012                            8.5\n",
       "2  2013                            8.5\n",
       "3  2014                            8.4\n",
       "4  2015                            7.9\n",
       "5  2016                            6.7\n",
       "6  2017                            7.1\n",
       "7  2018                            6.1\n",
       "8  2019                            6.3\n",
       "9  2020                            5.3"
      ]
     },
     "execution_count": 136,
     "metadata": {},
     "output_type": "execute_result"
    }
   ],
   "source": [
    "# Place your code here to create the dataset here\n",
    "d = {'Year': [2011, 2012, 2013, 2014, 2015, 2016, 2017, 2018, 2019, 2020],\n",
    "     'Marriages per 1000 population': [9.2, 8.5, 8.5, 8.4, 7.9, 6.7, 7.1, 6.1, 6.3, 5.3]}\n",
    "df = pd.DataFrame(data=d)\n",
    "df"
   ]
  },
  {
   "cell_type": "code",
   "execution_count": null,
   "metadata": {
    "colab": {
     "base_uri": "https://localhost:8080/",
     "height": 388
    },
    "executionInfo": {
     "elapsed": 591,
     "status": "ok",
     "timestamp": 1648631654222,
     "user": {
      "displayName": "Andrey Vagin",
      "userId": "09954343026999420417"
     },
     "user_tz": -180
    },
    "id": "MTYIm8cJFc0p",
    "outputId": "34ca4091-9987-4b55-d971-4d18128e16b1"
   },
   "outputs": [
    {
     "data": {
      "image/png": "[encoded data removed]",
      "text/plain": [
       "<Figure size 864x432 with 1 Axes>"
      ]
     },
     "metadata": {
      "needs_background": "light"
     },
     "output_type": "display_data"
    }
   ],
   "source": [
    "ax1 = df.plot.scatter(x='Year', y='Marriages per 1000 population')"
   ]
  },
  {
   "cell_type": "markdown",
   "metadata": {
    "id": "2ez31LJhGXJV"
   },
   "source": [
    "It seems that the data falls on a straight line."
   ]
  },
  {
   "cell_type": "code",
   "execution_count": null,
   "metadata": {
    "colab": {
     "base_uri": "https://localhost:8080/"
    },
    "executionInfo": {
     "elapsed": 22,
     "status": "ok",
     "timestamp": 1648631654222,
     "user": {
      "displayName": "Andrey Vagin",
      "userId": "09954343026999420417"
     },
     "user_tz": -180
    },
    "id": "HFLlx0uGGo8d",
    "outputId": "310b9b4e-928b-4655-955a-e23ab52a0ff4"
   },
   "outputs": [
    {
     "data": {
      "text/plain": [
       "array([0, 1, 2, 3, 4, 5, 6, 7, 8, 9])"
      ]
     },
     "execution_count": 138,
     "metadata": {},
     "output_type": "execute_result"
    }
   ],
   "source": [
    "x = np.array([i for i in range(df.shape[0])])\n",
    "x"
   ]
  },
  {
   "cell_type": "code",
   "execution_count": null,
   "metadata": {
    "colab": {
     "base_uri": "https://localhost:8080/"
    },
    "executionInfo": {
     "elapsed": 19,
     "status": "ok",
     "timestamp": 1648631654223,
     "user": {
      "displayName": "Andrey Vagin",
      "userId": "09954343026999420417"
     },
     "user_tz": -180
    },
    "id": "QpsUFdzcRxdn",
    "outputId": "47ec4ac4-cfb3-4ad4-bb30-f6b9e8e351c3"
   },
   "outputs": [
    {
     "data": {
      "text/plain": [
       "array([9.2, 8.5, 8.5, 8.4, 7.9, 6.7, 7.1, 6.1, 6.3, 5.3])"
      ]
     },
     "execution_count": 139,
     "metadata": {},
     "output_type": "execute_result"
    }
   ],
   "source": [
    "y = np.array(df['Marriages per 1000 population'])\n",
    "y"
   ]
  },
  {
   "cell_type": "markdown",
   "metadata": {
    "id": "K0sNRoS19R2k"
   },
   "source": [
    "## First regression model\n",
    "\n",
    "You should build the following model:\n",
    "\n",
    "$$ y_1 = \\theta_2 \\cdot x^2 + \\theta_1 \\cdot x + \\theta_0 $$\n",
    "\n",
    "where $y$ is the response variable and $x$ is the explanatory variable (see description of your dataset).\n",
    "\n",
    "### 2. Define feature matrix $X$ for the first model (1 point)\n",
    "\n",
    "It should be a `numpy` array or a `pandas` dataframe"
   ]
  },
  {
   "cell_type": "code",
   "execution_count": null,
   "metadata": {
    "colab": {
     "base_uri": "https://localhost:8080/"
    },
    "executionInfo": {
     "elapsed": 16,
     "status": "ok",
     "timestamp": 1648631654223,
     "user": {
      "displayName": "Andrey Vagin",
      "userId": "09954343026999420417"
     },
     "user_tz": -180
    },
    "id": "jioFqTmj9R2l",
    "outputId": "d1398602-33d7-4e89-f6c2-61bc922b80b4"
   },
   "outputs": [
    {
     "data": {
      "text/plain": [
       "array([[ 0,  0],\n",
       "       [ 1,  1],\n",
       "       [ 4,  2],\n",
       "       [ 9,  3],\n",
       "       [16,  4],\n",
       "       [25,  5],\n",
       "       [36,  6],\n",
       "       [49,  7],\n",
       "       [64,  8],\n",
       "       [81,  9]])"
      ]
     },
     "execution_count": 140,
     "metadata": {},
     "output_type": "execute_result"
    }
   ],
   "source": [
    "feature_matrix_X = np.array([[i * i for i in x], x]).T\n",
    "\n",
    "feature_matrix_X"
   ]
  },
  {
   "cell_type": "markdown",
   "metadata": {
    "id": "UTiQ0yiB9R2m"
   },
   "source": [
    "### 3. Train first regression model with OLS method by using matrix multiplications (2 points)\n",
    "\n",
    "Use the entire dataset for training. You can find the formula on our lectures and in the seminar notebook.\n",
    "\n",
    "`first_model_coeffs` should be an iterable, e.g. a list or a numpy array"
   ]
  },
  {
   "cell_type": "code",
   "execution_count": null,
   "metadata": {
    "id": "xNpYhKAhcno5"
   },
   "outputs": [],
   "source": [
    "class MyLinearRegression:\n",
    "    def __init__(self, fit_intercept=True):\n",
    "        # True if we want to use free term\n",
    "        self.fit_intercept = fit_intercept\n",
    "\n",
    "\n",
    "    def fit(self, X, y):\n",
    "        n, k = X.shape\n",
    "        \n",
    "        X_train = X\n",
    "\n",
    "        # Add a dummy attribute equal to 1 for a free term\n",
    "        if self.fit_intercept:\n",
    "            X_train = np.hstack((X, np.ones((n, 1))))\n",
    "\n",
    "        self.w = np.linalg.inv(X_train.T @ X_train) @ X_train.T @ y\n",
    "        return self\n",
    "        \n",
    "\n",
    "    def predict(self, X):\n",
    "        n, k = X.shape\n",
    "        \n",
    "        if self.fit_intercept:\n",
    "            X_train = np.hstack((X, np.ones((n, 1))))\n",
    "\n",
    "        y_pred = X_train @ self.w\n",
    "\n",
    "        return y_pred\n",
    "    \n",
    "\n",
    "    def get_weights(self):\n",
    "        return self.w"
   ]
  },
  {
   "cell_type": "code",
   "execution_count": null,
   "metadata": {
    "colab": {
     "base_uri": "https://localhost:8080/"
    },
    "executionInfo": {
     "elapsed": 14,
     "status": "ok",
     "timestamp": 1648631654224,
     "user": {
      "displayName": "Andrey Vagin",
      "userId": "09954343026999420417"
     },
     "user_tz": -180
    },
    "id": "7TnSYpJE9R2m",
    "outputId": "1a6e1022-3582-4b83-f06c-b7558ca37c5d"
   },
   "outputs": [
    {
     "name": "stdout",
     "output_type": "stream",
     "text": [
      "Coefficints of the first regression model are '[-0.01098485 -0.31083333  9.11181818]'\n"
     ]
    }
   ],
   "source": [
    "first_regressor = MyLinearRegression()\n",
    "first_regressor.fit(feature_matrix_X, y)\n",
    "first_model_predictions = first_regressor.predict(feature_matrix_X)\n",
    "first_model_coeffs = first_regressor.get_weights()\n",
    "\n",
    "print(f\"Coefficints of the first regression model are '{first_model_coeffs}'\")"
   ]
  },
  {
   "cell_type": "code",
   "execution_count": null,
   "metadata": {
    "colab": {
     "base_uri": "https://localhost:8080/",
     "height": 391
    },
    "executionInfo": {
     "elapsed": 827,
     "status": "ok",
     "timestamp": 1648631655041,
     "user": {
      "displayName": "Andrey Vagin",
      "userId": "09954343026999420417"
     },
     "user_tz": -180
    },
    "id": "2YrGiLS2fw3E",
    "outputId": "1de990b2-adba-4612-b38b-37eb72e2e6a0"
   },
   "outputs": [
    {
     "data": {
      "text/plain": [
       "<matplotlib.collections.PathCollection at 0x7f2453d84c90>"
      ]
     },
     "execution_count": 143,
     "metadata": {},
     "output_type": "execute_result"
    },
    {
     "data": {
      "image/png": "[encoded data removed]",
      "text/plain": [
       "<Figure size 864x432 with 1 Axes>"
      ]
     },
     "metadata": {
      "needs_background": "light"
     },
     "output_type": "display_data"
    }
   ],
   "source": [
    "# Curve of predicted values\n",
    "plt.plot(x, first_model_predictions)\n",
    "\n",
    "# True values\n",
    "plt.scatter(x, y)"
   ]
  },
  {
   "cell_type": "markdown",
   "metadata": {
    "id": "2M6t55Ny9R2n"
   },
   "source": [
    "## Second regression model\n",
    "\n",
    "Choose the power $p$ of your model (see step 0 above). You should build the following model:\n",
    "\n",
    "$$ y_2 = \\sum_{i=1}^{p}{\\theta_i \\cdot x^p} $$\n",
    "\n",
    "where $y$ is the response variable and $x$ is the explanatory variable (see description of your dataset) and $p$ is the power of the model.\n",
    "\n",
    "### 4. Train second regression model with OLS method using `stats.models.regression` module (2 points)\n",
    "\n",
    "`second_model_coeffs` should be an iterable, e.g. a list or a numpy array"
   ]
  },
  {
   "cell_type": "code",
   "execution_count": null,
   "metadata": {
    "colab": {
     "base_uri": "https://localhost:8080/"
    },
    "executionInfo": {
     "elapsed": 26,
     "status": "ok",
     "timestamp": 1648631655042,
     "user": {
      "displayName": "Andrey Vagin",
      "userId": "09954343026999420417"
     },
     "user_tz": -180
    },
    "id": "002SIzpSrjTP",
    "outputId": "b8594549-3c48-4611-d9a8-3cf7d699254d"
   },
   "outputs": [
    {
     "name": "stdout",
     "output_type": "stream",
     "text": [
      "[[   0    0    0    0]\n",
      " [   1    1    1    1]\n",
      " [  16    8    4    2]\n",
      " [  81   27    9    3]\n",
      " [ 256   64   16    4]\n",
      " [ 625  125   25    5]\n",
      " [1296  216   36    6]\n",
      " [2401  343   49    7]\n",
      " [4096  512   64    8]\n",
      " [6561  729   81    9]]\n"
     ]
    }
   ],
   "source": [
    "features = np.power(x, _model_power).reshape(-1, 1)\n",
    "for i in reversed(range(1, _model_power)):\n",
    "    tmp = np.power(x, i).reshape(-1, 1)\n",
    "    features = np.concatenate((features, tmp), axis=1)\n",
    "print(features)"
   ]
  },
  {
   "cell_type": "code",
   "execution_count": null,
   "metadata": {
    "colab": {
     "base_uri": "https://localhost:8080/"
    },
    "executionInfo": {
     "elapsed": 20,
     "status": "ok",
     "timestamp": 1648631655042,
     "user": {
      "displayName": "Andrey Vagin",
      "userId": "09954343026999420417"
     },
     "user_tz": -180
    },
    "id": "rC8SwbGA1apv",
    "outputId": "8179cd60-e44e-45c7-fb32-b18d2f152399"
   },
   "outputs": [
    {
     "name": "stdout",
     "output_type": "stream",
     "text": [
      "Coefficints of the second regression model are '[-0.02586967  0.54565829 -3.92366348 10.53944787]'\n"
     ]
    }
   ],
   "source": [
    "second_regressor = sm.OLS(y, features)\n",
    "second_model_predictions = second_regressor.fit()\n",
    "#print(second_model_predictions.summary())\n",
    "second_model_coeffs = second_model_predictions.params\n",
    "\n",
    "print(f\"Coefficints of the second regression model are '{second_model_coeffs}'\")"
   ]
  },
  {
   "cell_type": "code",
   "execution_count": null,
   "metadata": {
    "colab": {
     "base_uri": "https://localhost:8080/",
     "height": 374
    },
    "executionInfo": {
     "elapsed": 17,
     "status": "ok",
     "timestamp": 1648631655043,
     "user": {
      "displayName": "Andrey Vagin",
      "userId": "09954343026999420417"
     },
     "user_tz": -180
    },
    "id": "5bcGEZnCr6xp",
    "outputId": "2c0a2fe7-35c6-4212-9f7d-12104982110d"
   },
   "outputs": [
    {
     "data": {
      "image/png": "[encoded data removed]",
      "text/plain": [
       "<Figure size 864x432 with 1 Axes>"
      ]
     },
     "metadata": {
      "needs_background": "light"
     },
     "output_type": "display_data"
    }
   ],
   "source": [
    "# Curve of predicted values\n",
    "plt.plot(x, second_model_predictions.predict())\n",
    "#plt.plot(x, second_model_predictions)\n",
    "\n",
    "# True values\n",
    "plt.scatter(x, y)\n",
    "plt.show()"
   ]
  },
  {
   "cell_type": "markdown",
   "metadata": {
    "id": "OfLZcjL49R2o"
   },
   "source": [
    "## Third regression model\n",
    "\n",
    "You should build the following model:\n",
    "\n",
    "$$ y_3 = \\theta_1 \\cdot x + \\theta_0 $$\n",
    "\n",
    "where $y$ is the response variable and $x$ is the explanatory variable (see description of your dataset).\n",
    "\n",
    "### 5. Train third regression model with gradient descent (3 points, optional)\n",
    "\n",
    "You can write your own function for gradient descent or find one on the Internet. It should be possible to change the initial value and learning rate.\n",
    "\n",
    "`third_model_coeffs` should be an iterable, e.g. a list or a numpy array"
   ]
  },
  {
   "cell_type": "code",
   "execution_count": null,
   "metadata": {
    "id": "Ax5kvv6uiHJ1"
   },
   "outputs": [],
   "source": [
    "class MyGradientLinearRegression(MyLinearRegression):\n",
    "    def __init__(self, **kwargs):\n",
    "        super().__init__(**kwargs)\n",
    "        self.w = None\n",
    "    \n",
    "    def fit(self, X, y, lr=0.01, max_iter=1000):\n",
    "        n, k = X.shape\n",
    "\n",
    "        # Initialize our model with random values\n",
    "        # W is extended by one if free term is used\n",
    "        if self.w is None:\n",
    "            self.w = np.random.randn(k + 1 if self.fit_intercept else k)\n",
    "        \n",
    "        # Add a dummy attribute equal to 1 if free term is used\n",
    "        X_train = np.hstack((X, np.ones((n, 1)))) if self.fit_intercept else X\n",
    "        \n",
    "        self.losses = []\n",
    "        \n",
    "        for iter_num in range(max_iter):\n",
    "            y_pred = self.predict(X)\n",
    "            self.losses.append(mean_squared_error(y_pred, y))\n",
    "            grad = self._calc_gradient(X_train, y, y_pred)\n",
    "            self.w -= lr * grad\n",
    "\n",
    "        return self\n",
    "\n",
    "\n",
    "    def _calc_gradient(self, X, y, y_pred):\n",
    "        grad = 2 * (y_pred - y)[:, np.newaxis] * X\n",
    "        grad = grad.mean(axis=0)\n",
    "        return grad\n",
    "\n",
    "\n",
    "    def get_losses(self):\n",
    "        return self.losses"
   ]
  },
  {
   "cell_type": "code",
   "execution_count": null,
   "metadata": {
    "colab": {
     "base_uri": "https://localhost:8080/"
    },
    "executionInfo": {
     "elapsed": 15,
     "status": "ok",
     "timestamp": 1648631655044,
     "user": {
      "displayName": "Andrey Vagin",
      "userId": "09954343026999420417"
     },
     "user_tz": -180
    },
    "id": "8vxCuZ909R2p",
    "outputId": "365252e5-d269-4109-9ed5-76446a2c19b8"
   },
   "outputs": [
    {
     "name": "stdout",
     "output_type": "stream",
     "text": [
      "Coefficints of the third regression model are '[-0.40456135  9.211433  ]'\n"
     ]
    }
   ],
   "source": [
    "third_regressor = MyGradientLinearRegression()\n",
    "third_regressor.fit(x.reshape(-1, 1), y, max_iter=1000)\n",
    "\n",
    "third_model_predictions = third_regressor.predict(x.reshape(-1, 1))\n",
    "third_model_coeffs = third_regressor.get_weights()\n",
    "\n",
    "print(f\"Coefficints of the third regression model are '{third_model_coeffs}'\")"
   ]
  },
  {
   "cell_type": "code",
   "execution_count": null,
   "metadata": {
    "colab": {
     "base_uri": "https://localhost:8080/",
     "height": 391
    },
    "executionInfo": {
     "elapsed": 769,
     "status": "ok",
     "timestamp": 1648631655801,
     "user": {
      "displayName": "Andrey Vagin",
      "userId": "09954343026999420417"
     },
     "user_tz": -180
    },
    "id": "PDzP9q082YN2",
    "outputId": "82d65769-c462-40e8-eef8-7f9804563244"
   },
   "outputs": [
    {
     "data": {
      "text/plain": [
       "[<matplotlib.lines.Line2D at 0x7f2453c62190>]"
      ]
     },
     "execution_count": 149,
     "metadata": {},
     "output_type": "execute_result"
    },
    {
     "data": {
      "image/png": "[encoded data removed]",
      "text/plain": [
       "<Figure size 864x432 with 1 Axes>"
      ]
     },
     "metadata": {
      "needs_background": "light"
     },
     "output_type": "display_data"
    }
   ],
   "source": [
    "plt.plot(third_regressor.get_losses())"
   ]
  },
  {
   "cell_type": "code",
   "execution_count": null,
   "metadata": {
    "colab": {
     "base_uri": "https://localhost:8080/",
     "height": 391
    },
    "executionInfo": {
     "elapsed": 33,
     "status": "ok",
     "timestamp": 1648631655802,
     "user": {
      "displayName": "Andrey Vagin",
      "userId": "09954343026999420417"
     },
     "user_tz": -180
    },
    "id": "dPS1-2UujT1E",
    "outputId": "db338ced-bc4c-48ff-9951-6174757ee793"
   },
   "outputs": [
    {
     "data": {
      "text/plain": [
       "<matplotlib.collections.PathCollection at 0x7f2453c4a6d0>"
      ]
     },
     "execution_count": 150,
     "metadata": {},
     "output_type": "execute_result"
    },
    {
     "data": {
      "image/png": "[encoded data removed]",
      "text/plain": [
       "<Figure size 864x432 with 1 Axes>"
      ]
     },
     "metadata": {
      "needs_background": "light"
     },
     "output_type": "display_data"
    }
   ],
   "source": [
    "# Predicted curve\n",
    "plt.plot(x, third_model_predictions)\n",
    "\n",
    "# True values\n",
    "plt.scatter(x, y)"
   ]
  },
  {
   "cell_type": "markdown",
   "metadata": {
    "id": "6vGx3f8z9R2p"
   },
   "source": [
    "## Error estimation\n",
    "\n",
    "### 6. Calculate MSE and RMSE for all your regression models (2 points)\n",
    "\n",
    "Error estimations should be floating point numbers"
   ]
  },
  {
   "cell_type": "code",
   "execution_count": null,
   "metadata": {
    "colab": {
     "base_uri": "https://localhost:8080/",
     "height": 510
    },
    "executionInfo": {
     "elapsed": 21,
     "status": "ok",
     "timestamp": 1648631655803,
     "user": {
      "displayName": "Andrey Vagin",
      "userId": "09954343026999420417"
     },
     "user_tz": -180
    },
    "id": "LTtS6-tj9R2q",
    "outputId": "d657bc0f-174b-4e49-8a91-f393bfd196a1"
   },
   "outputs": [
    {
     "name": "stdout",
     "output_type": "stream",
     "text": [
      "0.08885303030303023\n",
      "8.851365223706638\n",
      "0.0955245168404691\n",
      "\n",
      "0.29808225425716006\n",
      "2.9751244047445544\n",
      "0.3090704075780616\n"
     ]
    },
    {
     "data": {
      "image/png": "[encoded data removed]",
      "text/plain": [
       "<Figure size 1008x432 with 2 Axes>"
      ]
     },
     "metadata": {
      "needs_background": "light"
     },
     "output_type": "display_data"
    }
   ],
   "source": [
    "first_model_mse = mean_squared_error(y, first_model_predictions)\n",
    "print(first_model_mse)\n",
    "second_model_mse = mean_squared_error(y, second_model_predictions.predict())\n",
    "print(second_model_mse)\n",
    "third_model_mse = mean_squared_error(y, third_model_predictions)\n",
    "print(third_model_mse)\n",
    "\n",
    "print()\n",
    "\n",
    "first_model_rmse = np.sqrt(first_model_mse)\n",
    "print(first_model_rmse)\n",
    "second_model_rmse = np.sqrt(second_model_mse)\n",
    "print(second_model_rmse)\n",
    "third_model_rmse = np.sqrt(third_model_mse)\n",
    "print(third_model_rmse)\n",
    "\n",
    "\n",
    "x_ = ['1', '2', '3']\n",
    "y1 = [first_model_mse, second_model_mse, third_model_mse]\n",
    "y2 = [first_model_rmse, second_model_rmse, third_model_rmse]\n",
    "\n",
    "fig = plt.figure(figsize=(14, 6))\n",
    "axes = fig.subplots(1, 2)\n",
    "axes[0].bar(x_, y1)\n",
    "axes[0].set_ylabel('MSE')\n",
    "axes[0].set_xlabel('Model')\n",
    "\n",
    "axes[1].bar(x_, y2)\n",
    "axes[1].set_ylabel('RMSE')\n",
    "axes[1].set_xlabel('Model')\n",
    "\n",
    "plt.show()"
   ]
  },
  {
   "cell_type": "markdown",
   "metadata": {
    "id": "0sgf7eTO9R2q"
   },
   "source": [
    "## Visualization\n",
    "\n",
    "### 7. Use `matplotlib` to visualize your results (graded manually, exam)\n",
    "\n",
    "You should build a single plot with all your models (2 or 3) drawn as curves/lines of different type and color. Additional points if you make the curves look smooth. Draw your dataset as dots on the same plot, do not connect them with lines."
   ]
  },
  {
   "cell_type": "code",
   "execution_count": null,
   "metadata": {
    "id": "i_C7crHr_2SI"
   },
   "outputs": [],
   "source": [
    "xl = np.linspace(0, 9, 1000)\n",
    "y_first = [np.array(first_model_coeffs).T @ [i ** 2, i, 1] for i in xl]\n",
    "y_second = [np.array(second_model_coeffs).T @ [i ** 4, i ** 3, i ** 2, i] for i in xl]"
   ]
  },
  {
   "cell_type": "code",
   "execution_count": null,
   "metadata": {
    "colab": {
     "base_uri": "https://localhost:8080/",
     "height": 388
    },
    "executionInfo": {
     "elapsed": 605,
     "status": "ok",
     "timestamp": 1648631656396,
     "user": {
      "displayName": "Andrey Vagin",
      "userId": "09954343026999420417"
     },
     "user_tz": -180
    },
    "id": "qwrCdCMJ9R2r",
    "outputId": "39745a0f-32a0-4655-a4f9-1a1f6726e21b"
   },
   "outputs": [
    {
     "data": {
      "image/png": "[encoded data removed]",
      "text/plain": [
       "<Figure size 864x432 with 1 Axes>"
      ]
     },
     "metadata": {
      "needs_background": "light"
     },
     "output_type": "display_data"
    }
   ],
   "source": [
    "fig = plt.figure(figsize=(12, 6))\n",
    "ax = fig.add_subplot()\n",
    "ax.set_xlabel('Years')\n",
    "ax.set_ylabel('Marriages per 1000 population')\n",
    "\n",
    "ax.plot(xl, y_first, label='first')\n",
    "ax.plot(xl, y_second, label='second')\n",
    "ax.plot(x, third_model_predictions, label='third')\n",
    "ax.scatter(x, y)\n",
    "ax.legend()\n",
    "fig.show()"
   ]
  },
  {
   "cell_type": "markdown",
   "metadata": {
    "id": "h2hVK05e9R2s"
   },
   "source": [
    "### 8. Prepare to discuss your results with the teacher (exam)\n",
    "\n",
    "Which model is better? Why? What else can you do to make the predictions better?"
   ]
  },
  {
   "cell_type": "markdown",
   "metadata": {
    "id": "CsEBePjBwGns"
   },
   "source": [
    "The first model shows us the best result because it has the smallest MSE, but I don't think it's the best model. \n",
    "With a small amount of data, the simpler the model, the better. Also, the distribution of true data is more like a straight line than a curve of the second degree. That's why the first model could overfit.\n",
    "\n",
    "I think the third model is the best in our case. It has a slightly larger MSE than the first one, but it is simpler and better imitates true data.\n",
    "\n",
    "To make predictions better we can: \n",
    "* try to use other machine learning models\n",
    "* try to genererate new fitures for eample $x_{i-1} * x_{i}$ (paired multiplication of consecutive years)\n",
    "* try to extend dataset if it possible."
   ]
  }
 ],
 "metadata": {
  "colab": {
   "name": "regression_exercise.ipynb",
   "provenance": [
    {
     "file_id": "1dEeMxt0x1wOnQ-E7eVvo7Bvc3zzRRwse",
     "timestamp": 1648578923145
    }
   ]
  },
  "kernelspec": {
   "display_name": "Python 3",
   "language": "python",
   "name": "python3"
  },
  "language_info": {
   "codemirror_mode": {
    "name": "ipython",
    "version": 3
   },
   "file_extension": ".py",
   "mimetype": "text/x-python",
   "name": "python",
   "nbconvert_exporter": "python",
   "pygments_lexer": "ipython3",
   "version": "3.8.8"
  }
 },
 "nbformat": 4,
 "nbformat_minor": 1
}
